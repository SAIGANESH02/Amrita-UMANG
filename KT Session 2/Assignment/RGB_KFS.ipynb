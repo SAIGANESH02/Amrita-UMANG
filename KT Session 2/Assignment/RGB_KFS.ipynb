{
 "cells": [
  {
   "cell_type": "code",
   "execution_count": 1,
   "metadata": {},
   "outputs": [],
   "source": [
    "# importing neccesary libraries\n",
    "\n",
    "import cv2\n",
    "import numpy as np\n",
    "import mediapipe as mp\n",
    "import json"
   ]
  },
  {
   "cell_type": "code",
   "execution_count": 2,
   "metadata": {},
   "outputs": [],
   "source": [
    "# Setting up mediapipe for predictions\n",
    "\n",
    "def mediapipe_detection(image, model):\n",
    "    image = cv2.cvtColor(image, cv2.COLOR_BGR2RGB) # COLOR CONVERSION BGR 2 RGB\n",
    "    image.flags.writeable = False                  # Image is no longer writeable\n",
    "    results = model.process(image)                 # Make prediction\n",
    "    image.flags.writeable = True                   # Image is now writeable \n",
    "    image = cv2.cvtColor(image, cv2.COLOR_RGB2BGR) # COLOR COVERSION RGB 2 BGR\n",
    "    return image, results"
   ]
  },
  {
   "cell_type": "code",
   "execution_count": 3,
   "metadata": {},
   "outputs": [],
   "source": [
    "# Using our previous etl script which is used to generate all the neccesary landmarks\n",
    "\n",
    "pose_x = []\n",
    "pose_y = []\n",
    "rh_x = []\n",
    "rh_y = []\n",
    "lh_x = []\n",
    "lh_y = []\n",
    "\n",
    "def etl(path,wr_path):\n",
    "    cap = cv2.VideoCapture(path)\n",
    "\n",
    "    # Properties\n",
    "    height = int(cap.get(cv2.CAP_PROP_FRAME_HEIGHT))\n",
    "    width = int(cap.get(cv2.CAP_PROP_FRAME_WIDTH))\n",
    "    fps = cap.get(cv2.CAP_PROP_FPS)\n",
    "                                                                                            \n",
    "    mp_holistic = mp.solutions.holistic # Holistic model\n",
    "\n",
    "    # Video Writer\n",
    "    posepath = wr_path+ r'/posevid.mp4'\n",
    "    video_writer = cv2.VideoWriter(posepath , cv2.VideoWriter_fourcc('m','p','4','v'), fps, (width, height), isColor=True)                         \n",
    "    cap = cv2.VideoCapture(path)\n",
    "\n",
    "\n",
    "\n",
    "    # Set mediapipe model \n",
    "    with mp_holistic.Holistic(min_detection_confidence=0.5, min_tracking_confidence=0.5) as holistic:\n",
    "\n",
    "        for frame_idx in range(int(cap.get(cv2.CAP_PROP_FRAME_COUNT))):\n",
    "            # Read feed\n",
    "            ret, frame = cap.read()\n",
    "\n",
    "            # Make detections\n",
    "            image, results = mediapipe_detection(frame, holistic)\n",
    "            # print(results)\n",
    "            \n",
    "            pose_xi = []\n",
    "            pose_yi = []\n",
    "            if results.pose_landmarks: \n",
    "                for i in range(33):\n",
    "                    results.pose_landmarks.landmark[i].x = results.pose_landmarks.landmark[i].x * image.shape[0]\n",
    "                    results.pose_landmarks.landmark[i].y = results.pose_landmarks.landmark[i].y * image.shape[1]\n",
    "                    pose_xi.append(results.pose_landmarks.landmark[i].x)\n",
    "                    pose_yi.append(results.pose_landmarks.landmark[i].y)\n",
    "            else:\n",
    "                for i in range(33):\n",
    "                    pose_xi.append(int(0))\n",
    "                    pose_yi.append(int(0))\n",
    "\n",
    "            pose_x.append(pose_xi)\n",
    "            pose_y.append(pose_yi)\n",
    "\n",
    "            rh_xi = []\n",
    "            rh_yi = []   \n",
    "            if results.right_hand_landmarks:\n",
    "                for i in range(21):\n",
    "                    results.right_hand_landmarks.landmark[i].x = results.right_hand_landmarks.landmark[i].x * image.shape[0]\n",
    "                    results.right_hand_landmarks.landmark[i].y = results.right_hand_landmarks.landmark[i].y * image.shape[1]\n",
    "                    rh_xi.append(results.right_hand_landmarks.landmark[i].x)\n",
    "                    rh_yi.append(results.right_hand_landmarks.landmark[i].y)\n",
    "            else:\n",
    "                for i in range(21):\n",
    "                    rh_xi.append(int(0))\n",
    "                    rh_yi.append(int(0))\n",
    "\n",
    "            rh_x.append(rh_xi)\n",
    "            rh_y.append(rh_yi)\n",
    "\n",
    "\n",
    "            lh_xi = []\n",
    "            lh_yi = []\n",
    "                        \n",
    "            if results.left_hand_landmarks:\n",
    "\n",
    "                for i in range(21):\n",
    "                    results.left_hand_landmarks.landmark[i].x = results.left_hand_landmarks.landmark[i].x * image.shape[0]\n",
    "                    results.left_hand_landmarks.landmark[i].y = results.left_hand_landmarks.landmark[i].y * image.shape[1]\n",
    "                    lh_xi.append(results.left_hand_landmarks.landmark[i].x)\n",
    "                    lh_yi.append(results.left_hand_landmarks.landmark[i].y)\n",
    "            else:\n",
    "                for i in range(21):\n",
    "                    lh_xi.append(int(0))\n",
    "                    lh_yi.append(int(0))\n",
    "\n",
    "            lh_x.append(lh_xi)\n",
    "            lh_y.append(lh_yi)\n",
    "\n",
    "            # Show to screen\n",
    "            # cv2.imshow('OpenCV Feed',image)\n",
    "\n",
    "            video_writer.write(image)\n",
    "\n",
    "            # Break gracefully\n",
    "            if cv2.waitKey(5) & 0xFF == ord('q'):\n",
    "                break\n",
    "        cap.release()\n",
    "        cv2.destroyAllWindows()\n",
    "        # Release video writer\n",
    "        video_writer.release()"
   ]
  },
  {
   "cell_type": "code",
   "execution_count": 4,
   "metadata": {},
   "outputs": [],
   "source": [
    "# Helper functions created to make code easier and readable\n",
    "\n",
    "# Finding mean (in our case it is used to find each points for the centroid)\n",
    "def avg(lst):\n",
    "    return sum(lst) / len(lst)\n",
    "\n",
    "# Square the values in the given list\n",
    "def sq(x):\n",
    "    return np.square(np.array(x)).tolist()\n",
    "\n",
    "# Root values of the list\n",
    "def sqrt(x):\n",
    "    return np.sqrt(np.array(x)).tolist()\n",
    "\n",
    "# Hand Distance parameter which is used to detect similar frames from the video\n",
    "def hand_dist(lh_x,lh_y,rh_x,rh_y,alpha):\n",
    "    hd = []\n",
    "    for i in range(len(lh_x)-1):\n",
    "        lx = avg(lh_x[i + 1]) - avg(lh_x[i])\n",
    "        ly = avg(lh_y[i + 1]) - avg(lh_y[i])\n",
    "        rx = avg(rh_x[i + 1]) - avg(rh_x[i])\n",
    "        ry = avg(rh_y[i + 1]) - avg(rh_y[i])\n",
    "        hd.append(int(alpha)*(max(sqrt(sq(lx)+sq(ly)),sqrt(sq(rx)+sq(ry)))))\n",
    "    return hd\n",
    "\n",
    "# Hand height parameter is used to remove unwanted frames\n",
    "def hand_height(lh_y,rh_y,beta):\n",
    "    hh= []\n",
    "    for i in range(len(lh_y)-1):\n",
    "        hh.append(int(beta)*(min(avg(lh_y[i]),avg(rh_y[i]))))\n",
    "    return hh\n",
    "\n",
    "# This variance measures the blurriness level of the grayed frame\n",
    "def variance(image):\n",
    "    gray = cv2.cvtColor(image, cv2.COLOR_BGR2GRAY)\n",
    "    return cv2.Laplacian(gray, cv2.CV_64F).var()\n",
    "\n",
    "# This function is used to find Percentage Reduction\n",
    "def perc_red(val,total):\n",
    "    return 100 - ((val/total)*100)"
   ]
  },
  {
   "cell_type": "code",
   "execution_count": 5,
   "metadata": {},
   "outputs": [],
   "source": [
    "# Calculating pose,left and right hand landmark estimates with help of etl function\n",
    "path = 'sample_videos/sample1.mp4'\n",
    "wr_path = 'vid'\n",
    "etl(path,wr_path)"
   ]
  },
  {
   "cell_type": "code",
   "execution_count": 6,
   "metadata": {},
   "outputs": [
    {
     "name": "stdout",
     "output_type": "stream",
     "text": [
      "261\n",
      "261\n"
     ]
    }
   ],
   "source": [
    "# Calculating both Hand Distance and Hand Height parameters\n",
    "h_di = hand_dist(lh_x,lh_y,rh_x,rh_y,1)\n",
    "h_hi = hand_height(lh_y,rh_y,1)\n",
    "\n",
    "# We can observe that both hand_height and hand_dist parameters are of same length i.e, initial/total frames\n",
    "print(len(h_hi))\n",
    "print(len(h_di))"
   ]
  },
  {
   "cell_type": "code",
   "execution_count": 7,
   "metadata": {},
   "outputs": [
    {
     "data": {
      "text/plain": [
       "<matplotlib.lines.Line2D at 0x1befafbb370>"
      ]
     },
     "execution_count": 7,
     "metadata": {},
     "output_type": "execute_result"
    },
    {
     "data": {
      "image/png": "[encoded data removed]",
      "text/plain": [
       "<Figure size 432x288 with 1 Axes>"
      ]
     },
     "metadata": {
      "needs_background": "light"
     },
     "output_type": "display_data"
    }
   ],
   "source": [
    "import matplotlib.pyplot as plt\n",
    "\n",
    "# Analyzing the hand height parameter by scatter plotting values\n",
    "x = np.arange(0,len(h_hi))\n",
    "plt.scatter(x,h_hi)\n",
    "\n",
    "# drawing a threshold line\n",
    "plt.axhline(y = 50, color = 'r', linestyle = '-')"
   ]
  },
  {
   "cell_type": "markdown",
   "metadata": {},
   "source": [
    "We can actually see that most of the frames in the video having hand height of value zero. So removing the frames with threshold zero will significantly reduce the frames and we can remove all the unwanted frames from the begining, middle and end of the video."
   ]
  },
  {
   "cell_type": "code",
   "execution_count": 8,
   "metadata": {},
   "outputs": [
    {
     "data": {
      "text/plain": [
       "109"
      ]
     },
     "execution_count": 8,
     "metadata": {},
     "output_type": "execute_result"
    }
   ],
   "source": [
    "h_hi_th = [x for x in h_hi if x > 0]\n",
    "len(h_hi_th)\n",
    "# We have reduced the frames value from 261 to 109"
   ]
  },
  {
   "cell_type": "code",
   "execution_count": 9,
   "metadata": {},
   "outputs": [
    {
     "data": {
      "text/plain": [
       "<matplotlib.collections.PathCollection at 0x1bedf565b50>"
      ]
     },
     "execution_count": 9,
     "metadata": {},
     "output_type": "execute_result"
    },
    {
     "data": {
      "image/png": "[encoded data removed]",
      "text/plain": [
       "<Figure size 432x288 with 1 Axes>"
      ]
     },
     "metadata": {
      "needs_background": "light"
     },
     "output_type": "display_data"
    }
   ],
   "source": [
    "# Plotting hand height values after thresholding\n",
    "import matplotlib.pyplot as plt\n",
    "x = np.arange(0,len(h_hi_th))\n",
    "plt.scatter(x,h_hi_th)\n",
    "# plt.axhline(y = 50, color = 'r', linestyle = '-')"
   ]
  },
  {
   "cell_type": "code",
   "execution_count": 10,
   "metadata": {},
   "outputs": [
    {
     "data": {
      "text/plain": [
       "<matplotlib.lines.Line2D at 0x1bec81344f0>"
      ]
     },
     "execution_count": 10,
     "metadata": {},
     "output_type": "execute_result"
    },
    {
     "data": {
      "image/png": "[encoded data removed]",
      "text/plain": [
       "<Figure size 432x288 with 1 Axes>"
      ]
     },
     "metadata": {
      "needs_background": "light"
     },
     "output_type": "display_data"
    }
   ],
   "source": [
    "# Now analyzing the hand distance parameter by plotting values\n",
    "x = np.arange(0,len(h_di))\n",
    "plt.scatter(x,h_di)\n",
    "plt.axhline(y = 30, color = 'r', linestyle = '-')"
   ]
  },
  {
   "cell_type": "markdown",
   "metadata": {},
   "source": [
    "we know that hand distance parameter is used to detect similar frames by fixing some threshold like 30 will cnsider the important frames and will leave the repeated frames"
   ]
  },
  {
   "cell_type": "code",
   "execution_count": 11,
   "metadata": {},
   "outputs": [
    {
     "data": {
      "text/plain": [
       "231"
      ]
     },
     "execution_count": 11,
     "metadata": {},
     "output_type": "execute_result"
    }
   ],
   "source": [
    "# Thresholding values with 30\n",
    "h_hi_th = [x for x in h_di if x < 30]\n",
    "len(h_hi_th)"
   ]
  },
  {
   "cell_type": "code",
   "execution_count": 12,
   "metadata": {},
   "outputs": [
    {
     "data": {
      "text/plain": [
       "<matplotlib.collections.PathCollection at 0x1bec81f0190>"
      ]
     },
     "execution_count": 12,
     "metadata": {},
     "output_type": "execute_result"
    },
    {
     "data": {
      "image/png": "[encoded data removed]",
      "text/plain": [
       "<Figure size 432x288 with 1 Axes>"
      ]
     },
     "metadata": {
      "needs_background": "light"
     },
     "output_type": "display_data"
    }
   ],
   "source": [
    "x = np.arange(0,len(h_hi_th))\n",
    "plt.scatter(x,h_hi_th)\n",
    "# plt.axhline(y = 50, color = 'r', linestyle = '-')"
   ]
  },
  {
   "cell_type": "code",
   "execution_count": 13,
   "metadata": {},
   "outputs": [],
   "source": [
    "h_hi_di_th = []\n",
    "for i in range(len(h_hi)):\n",
    "    if(h_di[i] < 30 and h_hi[i] > 0):\n",
    "        h_hi_di_th.append(x)"
   ]
  },
  {
   "cell_type": "markdown",
   "metadata": {},
   "source": [
    "In this code we are applying both the thresholds and appending those frames into a list and seeing it's length"
   ]
  },
  {
   "cell_type": "code",
   "execution_count": 14,
   "metadata": {},
   "outputs": [
    {
     "data": {
      "text/plain": [
       "95"
      ]
     },
     "execution_count": 14,
     "metadata": {},
     "output_type": "execute_result"
    }
   ],
   "source": [
    "len(h_hi_di_th)"
   ]
  },
  {
   "cell_type": "markdown",
   "metadata": {},
   "source": [
    "By taking these two parameters into consideration we have decreased the frames count from 261 to 95\n"
   ]
  },
  {
   "cell_type": "code",
   "execution_count": 15,
   "metadata": {},
   "outputs": [
    {
     "data": {
      "text/plain": [
       "63.60153256704981"
      ]
     },
     "execution_count": 15,
     "metadata": {},
     "output_type": "execute_result"
    }
   ],
   "source": [
    "# Reduced Percentage of frames\n",
    "perc_red(len(h_hi_di_th),len(h_hi))"
   ]
  },
  {
   "cell_type": "markdown",
   "metadata": {},
   "source": [
    "Now we are applying these parameters thresholding to the actual video and visualize the difference and saving that video"
   ]
  },
  {
   "cell_type": "code",
   "execution_count": 32,
   "metadata": {},
   "outputs": [],
   "source": [
    "def kfs(path,h_hi_th,h_di_th):\n",
    "\n",
    "    # Calculating both Hand Distance and Hand Height parameters\n",
    "    h_di = hand_dist(lh_x,lh_y,rh_x,rh_y,1)\n",
    "    h_hi = hand_height(lh_y,rh_y,1)\n",
    "    \n",
    "    post_kfs_cnt = 0\n",
    "    cap = cv2.VideoCapture(path)\n",
    "\n",
    "    # Properties\n",
    "    height = int(cap.get(cv2.CAP_PROP_FRAME_HEIGHT))\n",
    "    width = int(cap.get(cv2.CAP_PROP_FRAME_WIDTH))\n",
    "    fps = cap.get(cv2.CAP_PROP_FPS)\n",
    "                                     \n",
    "    \n",
    "    # Video Writer\n",
    "    f_name = path.split('/')[-1]\n",
    "    savepath = 'Output/'+f_name.split('.')[0]+'_output.mp4'\n",
    "    video_writer = cv2.VideoWriter(savepath , cv2.VideoWriter_fourcc(*'MP4V'), fps, (width, height), isColor=True)                         \n",
    "    cap = cv2.VideoCapture(path)\n",
    "\n",
    "    for i in range(len(h_hi)):\n",
    "        # Read feed\n",
    "        ret, frame = cap.read()\n",
    "        # Thresholding\n",
    "        if(h_di[i] < h_di_th and h_hi[i] > h_hi_th):\n",
    "            # Show to screen\n",
    "            # cv2.imshow('OpenCV Feed',frame)\n",
    "            post_kfs_cnt+=1\n",
    "\n",
    "            video_writer.write(frame)\n",
    "\n",
    "        # Break gracefully\n",
    "        if cv2.waitKey(5) & 0xFF == ord('q'):\n",
    "            break\n",
    "    cap.release()\n",
    "    cv2.destroyAllWindows()\n",
    "    # Release video writer\n",
    "    video_writer.release()\n",
    "    per_red = perc_red(post_kfs_cnt,len(h_hi))\n",
    "\n",
    "    # Data to be written in the json file\n",
    "    dictionary = {\n",
    "        \"Filename\" : f_name,\n",
    "\n",
    "        \"Hand_Height\" : h_hi,\n",
    "        \"Hand_Distance\" : h_di,\n",
    "\n",
    "        \"Initial_Frame_Count\" : len(h_hi),\n",
    "        \"Post_KFS_Frame_Count\" : post_kfs_cnt,\n",
    "\n",
    "        \"Percentage_Reduction\" : per_red,\n",
    "\n",
    "        \"Hand_Height_Threshold_Value\" : h_hi_th,\n",
    "        \"Hand_Distance_Threshold_Value\" : h_di_th   \n",
    "    }\n",
    "\n",
    "    with open('Output/'+f_name.split('.')[0]+\"_output.json\", \"w\") as outfile:\n",
    "        json.dump(dictionary, outfile)\n",
    "    return"
   ]
  },
  {
   "cell_type": "code",
   "execution_count": null,
   "metadata": {},
   "outputs": [],
   "source": [
    "path = 'sample_videos/sample1.mp4'\n",
    "# Applying Key frame selection procedure\n",
    "kfs(path,0,50)"
   ]
  },
  {
   "cell_type": "code",
   "execution_count": null,
   "metadata": {},
   "outputs": [],
   "source": [
    "path = 'sample_videos/sample2.mp4'\n",
    "\n",
    "# Calculating pose,left and right hand landmark estimates with help of etl function\n",
    "etl(path,'vid')\n",
    "# Applying Key frame selection procedure\n",
    "kfs(path,0,50)"
   ]
  },
  {
   "cell_type": "code",
   "execution_count": null,
   "metadata": {},
   "outputs": [],
   "source": [
    "path = 'sample_videos/sample3.mp4'\n",
    "\n",
    "# Calculating pose,left and right hand landmark estimates with help of etl function\n",
    "etl(path,'vid')\n",
    "# Applying Key frame selection procedure\n",
    "kfs(path,0,50)"
   ]
  },
  {
   "cell_type": "code",
   "execution_count": null,
   "metadata": {},
   "outputs": [],
   "source": [
    "path = 'sample_videos/sample4.mp4'\n",
    "\n",
    "# Calculating pose,left and right hand landmark estimates with help of etl function\n",
    "etl(path,'vid')\n",
    "# Applying Key frame selection procedure\n",
    "kfs(path,0,50)"
   ]
  },
  {
   "cell_type": "code",
   "execution_count": null,
   "metadata": {},
   "outputs": [],
   "source": [
    "path = 'sample_videos/sample5.mp4'\n",
    "\n",
    "# Calculating pose,left and right hand landmark estimates with help of etl function\n",
    "etl(path,'vid')\n",
    "# Applying Key frame selection procedure\n",
    "kfs(path,0,50)"
   ]
  },
  {
   "cell_type": "code",
   "execution_count": null,
   "metadata": {},
   "outputs": [],
   "source": [
    "path = 'sample_videos/sample6.mp4'\n",
    "\n",
    "# Calculating pose,left and right hand landmark estimates with help of etl function\n",
    "etl(path,'vid')\n",
    "# Applying Key frame selection procedure\n",
    "kfs(path,0,50)"
   ]
  },
  {
   "cell_type": "code",
   "execution_count": null,
   "metadata": {},
   "outputs": [],
   "source": []
  }
 ],
 "metadata": {
  "interpreter": {
   "hash": "bf4fbbcfb44b62809ee9ef976aff62d8f85ac4ea82e40788fda9594addf376e6"
  },
  "kernelspec": {
   "display_name": "Python 3.9.6 64-bit",
   "language": "python",
   "name": "python3"
  },
  "language_info": {
   "codemirror_mode": {
    "name": "ipython",
    "version": 3
   },
   "file_extension": ".py",
   "mimetype": "text/x-python",
   "name": "python",
   "nbconvert_exporter": "python",
   "pygments_lexer": "ipython3",
   "version": "3.9.6"
  },
  "orig_nbformat": 4
 },
 "nbformat": 4,
 "nbformat_minor": 2
}
